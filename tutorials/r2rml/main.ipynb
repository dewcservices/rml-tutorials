{
 "cells": [
  {
   "cell_type": "markdown",
   "metadata": {},
   "source": [
    "# R2RML Tutorial using Morph-KGC"
   ]
  },
  {
   "cell_type": "markdown",
   "metadata": {},
   "source": [
    "We will start by using the `morph-kgc` library to carry out the official R2RML example over at https://www.w3.org/TR/r2rml/#overview."
   ]
  },
  {
   "cell_type": "markdown",
   "metadata": {},
   "source": [
    "First, we create a sample database called `simple.db` with two tables."
   ]
  },
  {
   "cell_type": "code",
   "execution_count": null,
   "metadata": {},
   "outputs": [
    {
     "name": "stdout",
     "output_type": "stream",
     "text": [
      "Table: EMP\n",
      "   EMPNO  ENAME    JOB  DEPTNO\n",
      "0   7369  SMITH  CLERK      10\n",
      "\n",
      "Table: DEPT\n",
      "   DEPTNO      DNAME       LOC\n",
      "0      10  APPSERVER  NEW YORK\n",
      "\n"
     ]
    }
   ],
   "source": [
    "import sqlite3\n",
    "\n",
    "import pandas as pd\n",
    "\n",
    "conn = sqlite3.connect(\"simple.db\")\n",
    "\n",
    "for table in [\"EMP\", \"DEPT\"]:\n",
    "    df = pd.read_csv(f\"simple/data/{table.lower()}.csv\")\n",
    "    df.to_sql(table, conn, index=False, if_exists=\"replace\")\n",
    "    print(f\"Table: {table}\\n{df}\\n\")"
   ]
  },
  {
   "cell_type": "markdown",
   "metadata": {},
   "source": [
    "Next, let's configure `morph-kgc` to use a mapping."
   ]
  },
  {
   "cell_type": "code",
   "execution_count": 2,
   "metadata": {},
   "outputs": [
    {
     "name": "stderr",
     "output_type": "stream",
     "text": [
      "INFO | 2025-01-10 10:17:17,096 | Parallelization is not supported for darwin when running as a library. If you need to speed up your data integration pipeline, please run through the command line.\n",
      "INFO | 2025-01-10 10:17:17,389 | 7 mapping rules retrieved.\n",
      "INFO | 2025-01-10 10:17:17,395 | Mapping partition with 7 groups generated.\n",
      "INFO | 2025-01-10 10:17:17,396 | Maximum number of rules within mapping group: 1.\n",
      "INFO | 2025-01-10 10:17:17,396 | Mappings processed in 0.298 seconds.\n",
      "INFO | 2025-01-10 10:17:17,511 | Number of triples generated in total: 7.\n"
     ]
    },
    {
     "data": {
      "text/plain": [
       "{'<http://data.example.com/department/10> <http://example.com/ns#location> \"NEW YORK\"',\n",
       " '<http://data.example.com/department/10> <http://example.com/ns#name> \"APPSERVER\"',\n",
       " '<http://data.example.com/department/10> <http://example.com/ns#staff> \"1\"',\n",
       " '<http://data.example.com/department/10> <http://www.w3.org/1999/02/22-rdf-syntax-ns#type> <http://example.com/ns#Department>',\n",
       " '<http://data.example.com/employee/7369> <http://example.com/ns#department> <http://data.example.com/department/10>',\n",
       " '<http://data.example.com/employee/7369> <http://example.com/ns#name> \"SMITH\"',\n",
       " '<http://data.example.com/employee/7369> <http://www.w3.org/1999/02/22-rdf-syntax-ns#type> <http://example.com/ns#Employee>'}"
      ]
     },
     "execution_count": 2,
     "metadata": {},
     "output_type": "execute_result"
    }
   ],
   "source": [
    "import morph_kgc\n",
    "\n",
    "morph_kgc.materialize_set(\"config/simple.ini\")"
   ]
  },
  {
   "cell_type": "markdown",
   "metadata": {},
   "source": [
    "Next, let's work with a many-to-many database."
   ]
  },
  {
   "cell_type": "code",
   "execution_count": null,
   "metadata": {},
   "outputs": [
    {
     "name": "stdout",
     "output_type": "stream",
     "text": [
      "Table: EMP\n",
      "   EMPNO  ENAME         JOB\n",
      "0   7369  SMITH       CLERK\n",
      "1   7369  SMITH  NIGHTGUARD\n",
      "2   7400  JONES    ENGINEER\n",
      "\n",
      "Table: DEPT\n",
      "   DEPTNO      DNAME       LOC\n",
      "0      10  APPSERVER  NEW YORK\n",
      "1      20   RESEARCH    BOSTON\n",
      "\n",
      "Table: EMP2DEPT\n",
      "   EMPNO  DEPTNO\n",
      "0   7369      10\n",
      "1   7369      20\n",
      "2   7400      10\n",
      "\n"
     ]
    }
   ],
   "source": [
    "conn = sqlite3.connect(\"many-to-many.db\")\n",
    "\n",
    "for table in [\"EMP\", \"DEPT\", \"EMP2DEPT\"]:\n",
    "    df = pd.read_csv(f\"many-to-many/data/{table.lower()}.csv\")\n",
    "    df.to_sql(table, conn, index=False, if_exists=\"replace\")\n",
    "    print(f\"Table: {table}\\n{df}\\n\")"
   ]
  },
  {
   "cell_type": "markdown",
   "metadata": {},
   "source": [
    "As triples:"
   ]
  },
  {
   "cell_type": "code",
   "execution_count": 4,
   "metadata": {},
   "outputs": [
    {
     "name": "stderr",
     "output_type": "stream",
     "text": [
      "INFO | 2025-01-10 10:17:17,528 | Parallelization is not supported for darwin when running as a library. If you need to speed up your data integration pipeline, please run through the command line.\n",
      "INFO | 2025-01-10 10:17:17,698 | 2 mapping rules retrieved.\n",
      "INFO | 2025-01-10 10:17:17,700 | Mapping partition with 2 groups generated.\n",
      "INFO | 2025-01-10 10:17:17,701 | Maximum number of rules within mapping group: 1.\n",
      "INFO | 2025-01-10 10:17:17,701 | Mappings processed in 0.172 seconds.\n",
      "INFO | 2025-01-10 10:17:17,708 | Number of triples generated in total: 6.\n"
     ]
    },
    {
     "data": {
      "text/plain": [
       "{'<http://data.example.com/employee=7369/department=10> <http://example.com/ns#department> <http://data.example.com/department/10>',\n",
       " '<http://data.example.com/employee=7369/department=10> <http://example.com/ns#employee> <http://data.example.com/employee/7369>',\n",
       " '<http://data.example.com/employee=7369/department=20> <http://example.com/ns#department> <http://data.example.com/department/20>',\n",
       " '<http://data.example.com/employee=7369/department=20> <http://example.com/ns#employee> <http://data.example.com/employee/7369>',\n",
       " '<http://data.example.com/employee=7400/department=10> <http://example.com/ns#department> <http://data.example.com/department/10>',\n",
       " '<http://data.example.com/employee=7400/department=10> <http://example.com/ns#employee> <http://data.example.com/employee/7400>'}"
      ]
     },
     "execution_count": 4,
     "metadata": {},
     "output_type": "execute_result"
    }
   ],
   "source": [
    "morph_kgc.materialize_set(\"config/many-to-many.ini\")"
   ]
  },
  {
   "cell_type": "markdown",
   "metadata": {},
   "source": [
    "Or, alternatively"
   ]
  },
  {
   "cell_type": "code",
   "execution_count": 5,
   "metadata": {},
   "outputs": [
    {
     "name": "stderr",
     "output_type": "stream",
     "text": [
      "INFO | 2025-01-10 10:17:17,714 | Parallelization is not supported for darwin when running as a library. If you need to speed up your data integration pipeline, please run through the command line.\n",
      "INFO | 2025-01-10 10:17:17,918 | 1 mapping rules retrieved.\n",
      "INFO | 2025-01-10 10:17:17,921 | Mapping partition with 1 groups generated.\n",
      "INFO | 2025-01-10 10:17:17,921 | Maximum number of rules within mapping group: 1.\n",
      "INFO | 2025-01-10 10:17:17,921 | Mappings processed in 0.205 seconds.\n",
      "INFO | 2025-01-10 10:17:17,924 | Number of triples generated in total: 3.\n"
     ]
    },
    {
     "data": {
      "text/plain": [
       "{'<http://data.example.com/employee/7369> <http://example.com/ns#department> <http://data.example.com/department/10>',\n",
       " '<http://data.example.com/employee/7369> <http://example.com/ns#department> <http://data.example.com/department/20>',\n",
       " '<http://data.example.com/employee/7400> <http://example.com/ns#department> <http://data.example.com/department/10>'}"
      ]
     },
     "execution_count": 5,
     "metadata": {},
     "output_type": "execute_result"
    }
   ],
   "source": [
    "morph_kgc.materialize_set(\"config/many-to-many2.ini\")"
   ]
  }
 ],
 "metadata": {
  "kernelspec": {
   "display_name": ".venv",
   "language": "python",
   "name": "python3"
  },
  "language_info": {
   "codemirror_mode": {
    "name": "ipython",
    "version": 3
   },
   "file_extension": ".py",
   "mimetype": "text/x-python",
   "name": "python",
   "nbconvert_exporter": "python",
   "pygments_lexer": "ipython3",
   "version": "3.12.4"
  }
 },
 "nbformat": 4,
 "nbformat_minor": 2
}
